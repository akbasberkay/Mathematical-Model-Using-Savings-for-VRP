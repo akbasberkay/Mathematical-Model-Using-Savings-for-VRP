{
 "cells": [
  {
   "cell_type": "code",
   "execution_count": null,
   "metadata": {},
   "outputs": [],
   "source": [
    "from gurobipy import Model, GRB, quicksum"
   ]
  },
  {
   "cell_type": "code",
   "execution_count": null,
   "metadata": {},
   "outputs": [],
   "source": [
    "import numpy as np"
   ]
  },
  {
   "cell_type": "code",
   "execution_count": null,
   "metadata": {},
   "outputs": [],
   "source": [
    "import matplotlib.pyplot as plt"
   ]
  },
  {
   "cell_type": "code",
   "execution_count": null,
   "metadata": {},
   "outputs": [],
   "source": [
    "loc_x = [30,37,49,52,31,52,42,52,57,62,42,27,43,58,58,37,38,61,62,63,45,32,56]"
   ]
  },
  {
   "cell_type": "code",
   "execution_count": null,
   "metadata": {},
   "outputs": [],
   "source": [
    "loc_y = [40,52,49,64,62,33,41,41,58,42,57,68,67,48,27,69,46,33,63,69,35,39,37]"
   ]
  },
  {
   "cell_type": "code",
   "execution_count": null,
   "metadata": {},
   "outputs": [],
   "source": [
    "demand = [7,30,16,23,11,19,15,28,8,8,7,14,6,19,11,12,26,17,6,15,5,10]"
   ]
  },
  {
   "cell_type": "code",
   "execution_count": null,
   "metadata": {},
   "outputs": [],
   "source": [
    "plt.plot(loc_x[0], loc_y[0], c='r', marker='s')\n",
    "plt.scatter(loc_x[1:], loc_y[1:], c='b')"
   ]
  },
  {
   "cell_type": "code",
   "execution_count": null,
   "metadata": {},
   "outputs": [],
   "source": [
    "n = 22"
   ]
  },
  {
   "cell_type": "code",
   "execution_count": null,
   "metadata": {},
   "outputs": [],
   "source": [
    "N = [i for i in range(1, n+1)]"
   ]
  },
  {
   "cell_type": "code",
   "execution_count": null,
   "metadata": {},
   "outputs": [],
   "source": [
    "V = [0] + N "
   ]
  },
  {
   "cell_type": "code",
   "execution_count": null,
   "metadata": {},
   "outputs": [],
   "source": [
    "arcs_for_savings = [(i, j) for i in V for j in V if i != j]"
   ]
  },
  {
   "cell_type": "code",
   "execution_count": null,
   "metadata": {},
   "outputs": [],
   "source": [
    "Q = 40"
   ]
  },
  {
   "cell_type": "code",
   "execution_count": null,
   "metadata": {},
   "outputs": [],
   "source": [
    "savings = {(i, j):    (np.hypot(loc_x[i]-loc_x[0], loc_y[i]-loc_y[0]))\n",
    "                    +(np.hypot(loc_x[0]-loc_x[j], loc_y[0]-loc_y[j]))\n",
    "                    -(np.hypot(loc_x[i]-loc_x[j], loc_y[i]-loc_y[j])) for i, j in arcs_for_savings}"
   ]
  },
  {
   "cell_type": "code",
   "execution_count": null,
   "metadata": {},
   "outputs": [],
   "source": [
    "distance = {(i, j): np.hypot(loc_x[i]-loc_x[j], loc_y[i]-loc_y[j]) for i, j in arcs_for_savings}"
   ]
  },
  {
   "cell_type": "code",
   "execution_count": null,
   "metadata": {},
   "outputs": [],
   "source": [
    "r = 8"
   ]
  },
  {
   "cell_type": "code",
   "execution_count": null,
   "metadata": {},
   "outputs": [],
   "source": [
    "mdl = Model('CVRP')"
   ]
  },
  {
   "cell_type": "code",
   "execution_count": null,
   "metadata": {},
   "outputs": [],
   "source": [
    "x = mdl.addVars(arcs_for_savings, vtype=GRB.BINARY)\n",
    "y = mdl.addVars(N, vtype=GRB.CONTINUOUS)"
   ]
  },
  {
   "cell_type": "code",
   "execution_count": null,
   "metadata": {},
   "outputs": [],
   "source": [
    "mdl.setObjective(quicksum(x[i, j] * savings[i, j] for  i, j in arcs_for_savings), GRB.MAXIMIZE )"
   ]
  },
  {
   "cell_type": "code",
   "execution_count": null,
   "metadata": {
    "scrolled": true
   },
   "outputs": [],
   "source": [
    "mdl.addConstr(quicksum(x[ 0 , j ] for j in N) == r)\n",
    "mdl.addConstrs(quicksum(x[ i , j ] for i in V if i != j) == 1 for j in N)\n",
    "mdl.addConstrs(quicksum(x[ i , j ] for j in N if i != j) <= 1 for i in N)\n",
    "mdl.addConstrs(y[i]+ demand[i-1]*x[ i , j ]- Q * ( 1 - x[ i , j ]) <= y[j] for i in N for j in N if i != j)\n",
    "mdl.addConstrs(demand[ i-1 ] <= y[ i ] for i in N)\n",
    "mdl.addConstrs(y[ i ] <= Q for i in N)"
   ]
  },
  {
   "cell_type": "code",
   "execution_count": null,
   "metadata": {},
   "outputs": [],
   "source": [
    "mdl.optimize()"
   ]
  },
  {
   "cell_type": "code",
   "execution_count": null,
   "metadata": {},
   "outputs": [],
   "source": [
    "active_arcs = [a for a in arcs_for_savings if x[a].x > 0.99]"
   ]
  },
  {
   "cell_type": "code",
   "execution_count": null,
   "metadata": {},
   "outputs": [],
   "source": [
    "active_arcs"
   ]
  },
  {
   "cell_type": "code",
   "execution_count": null,
   "metadata": {},
   "outputs": [],
   "source": [
    "for i, j in active_arcs:\n",
    "    plt.plot([loc_x[i], loc_x[j]], [loc_y[i], loc_y[j]], c='g', zorder=0)\n",
    "plt.plot(loc_x[0], loc_y[0], c='r', marker='s')\n",
    "plt.scatter(loc_x[1:], loc_y[1:], c='b')\n",
    "plt.title('CVRP2_7')\n",
    "plt.savefig('CVRP2_7')"
   ]
  },
  {
   "cell_type": "code",
   "execution_count": null,
   "metadata": {},
   "outputs": [],
   "source": [
    "Total_Sum = 0\n",
    "for i,j in active_arcs:\n",
    "    Total_Sum = Total_Sum + distance[(i,j)]\n",
    "print(Total_Sum)"
   ]
  },
  {
   "cell_type": "code",
   "execution_count": null,
   "metadata": {},
   "outputs": [],
   "source": []
  }
 ],
 "metadata": {
  "kernelspec": {
   "display_name": "Python 3",
   "language": "python",
   "name": "python3"
  },
  "language_info": {
   "codemirror_mode": {
    "name": "ipython",
    "version": 3
   },
   "file_extension": ".py",
   "mimetype": "text/x-python",
   "name": "python",
   "nbconvert_exporter": "python",
   "pygments_lexer": "ipython3",
   "version": "3.7.3"
  }
 },
 "nbformat": 4,
 "nbformat_minor": 2
}
